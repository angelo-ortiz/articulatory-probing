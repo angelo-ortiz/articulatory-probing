{
 "cells": [
  {
   "cell_type": "code",
   "execution_count": 1,
   "id": "d8631308",
   "metadata": {
    "ExecuteTime": {
     "end_time": "2024-01-11T09:33:40.890224Z",
     "start_time": "2024-01-11T09:33:40.596436Z"
    }
   },
   "outputs": [],
   "source": [
    "import pandas as pd\n",
    "pd.set_option('display.max_rows', None)\n",
    "pd.set_option('display.width', 10000)\n",
    "\n",
    "from artprob.benchmark import Results, print_benchmark"
   ]
  },
  {
   "cell_type": "markdown",
   "id": "58aa690e",
   "metadata": {},
   "source": [
    "# 50 Hz"
   ]
  },
  {
   "cell_type": "code",
   "execution_count": 3,
   "id": "f75b343d-3d96-4978-abf9-f00f3405f77a",
   "metadata": {
    "ExecuteTime": {
     "end_time": "2024-01-11T09:33:41.972307Z",
     "start_time": "2024-01-11T09:33:41.956047Z"
    },
    "scrolled": true
   },
   "outputs": [
    {
     "name": "stdout",
     "output_type": "stream",
     "text": [
      "                                                       msak0     fsew0     ffes0     mjjn0     maps0     faet0       avg\n",
      "hubert-large-sinc-en_ipa-neg-feats                  0.831877  0.830127  0.838980  0.790684  0.750193  0.841859  0.813953\n",
      "hubert_ignore_unknown_features-26-sinc-en_ipa-n...  0.826322  0.823730  0.819242  0.784843  0.754400  0.823316  0.805309\n",
      "hubert_ignore_unknown_features_mid_criterion-26...  0.824592  0.823769  0.817502  0.783590  0.751081  0.821400  0.803655\n",
      "hubert-base-sinc-en_ipa-neg-feats                   0.820003  0.819082  0.815722  0.778392  0.752777  0.821549  0.801254\n",
      "linear-mid-en_ipa_phnm-neg-feats-unk                0.729391  0.704295  0.665558  0.657989  0.622814  0.692552  0.678766\n",
      "cubic--en_ipa_phnm-neg-feats-unk                    0.718104  0.694977  0.655436  0.649440  0.610931  0.681071  0.668326\n",
      "linear-mid-en_ap_1hot_phnm-neg-feats-unk            0.707213  0.683171  0.651844  0.651423  0.606404  0.678662  0.663119\n",
      "ma-cubic-spline-10-1e-4-1e-1-1e7-en_ipa_phnm-ne...  0.710555  0.686021  0.651640  0.631637  0.613377  0.684606  0.662973\n",
      "ma-cubic-10-1e-5-0-0-en_ipa_phnm-neg-feats-unk      0.711295  0.683787  0.648284  0.637338  0.605268  0.675912  0.660314\n",
      "linear-mid-en_ipa_phnm-neg-feats                    0.702902  0.679845  0.647848  0.651263  0.599864  0.672486  0.659035\n",
      "linear-mid-en_ipaphnm-neg-feats                     0.702796  0.679791  0.647786  0.650929  0.599948  0.672511  0.658960\n",
      "linear-mid-en_ap_scalar_phnm-neg-feats-unk          0.699648  0.676213  0.644577  0.640242  0.603297  0.672302  0.656047\n",
      "ma-cubic-10-1e-6-1e-2-1e5-en_ipa_phnm-neg-feats     0.696999  0.674994  0.641482  0.645409  0.601916  0.664787  0.654265\n",
      "ma-cubic-10-1e-6-1e-2-1e4-en_ipa_phnm-neg-feats...  0.704850  0.672986  0.640710  0.608690  0.603961  0.660312  0.648585\n",
      "cubic--en_ap_1hot_phnm-neg-feats-unk                0.691397  0.667942  0.636956  0.639816  0.590796  0.662520  0.648238\n",
      "linear-mid-en_phoneme-non-neg-feats                 0.690124  0.664504  0.633578  0.634261  0.595661  0.652630  0.645126\n",
      "mono-cubic-mid-en_ipa_phnm-neg-feats                0.688402  0.665720  0.634072  0.639835  0.584280  0.655905  0.644702\n",
      "mono-cubic-mid-en_ipaphnm-neg-feats                 0.688406  0.665444  0.634015  0.639551  0.584332  0.656044  0.644632\n",
      "ma-cubic-10-5e-6-0-0-en_ipa_phnm-neg-feats          0.685996  0.663675  0.632012  0.637987  0.583990  0.654184  0.642974\n",
      "ma-cubic-10-1e-6-1e-2-1e5-en_phoneme-non-neg-feats  0.686097  0.661830  0.628826  0.628119  0.602458  0.647443  0.642462\n",
      "cubic--en_ap_scalar_phnm-neg-feats-unk              0.684877  0.662146  0.630559  0.630095  0.588367  0.657223  0.642211\n",
      "nat-cubic-spline-mid-en_ipaphnm-neg-feats-unk       0.690319  0.666435  0.628545  0.632430  0.575457  0.656478  0.641611\n",
      "nat-cubic-spline-mid-en_ipa_phnm-neg-feats-unk      0.686383  0.661693  0.623781  0.632143  0.575673  0.651264  0.638490\n",
      "mono-cubic-mid-en_phoneme-non-neg-feats             0.677585  0.651971  0.620757  0.625972  0.581914  0.638685  0.632814\n",
      "ma-cubic-10-5e-5-0-0-en_ap_1hot_phnm-neg-feats-unk  0.674431  0.651553  0.626072  0.618542  0.579536  0.646091  0.632704\n",
      "ma-cubic-10-5e-6-0-0-en_phoneme-non-neg-feats       0.675117  0.650183  0.618751  0.624124  0.581581  0.636845  0.631100\n",
      "linear-mid-en_ipa-neg-feats-unk                     0.686178  0.655467  0.614806  0.602599  0.568921  0.652496  0.630078\n",
      "ma-cubic-spline-10-1e-4-1e-2-1e7-en_phoneme-non...  0.672462  0.646042  0.617097  0.625146  0.578361  0.640007  0.629853\n",
      "ma-cubic-spline-10-1e-4-1e-1-1e7-en_ipa-neg-feats   0.682449  0.647575  0.615118  0.603311  0.568922  0.658396  0.629295\n",
      "ma-cubic-10-1e-5-0-0-en_ap_scalar_phnm-neg-feat...  0.673514  0.643741  0.622906  0.614865  0.579434  0.636274  0.628456\n",
      "nat-cubic-spline-mid-en_ap_1hot_phnm-neg-feats-unk  0.669852  0.643098  0.620434  0.624592  0.569118  0.642367  0.628244\n",
      "nat-cubic-spline-mid-en_ap_scalar_phnm-neg-feat...  0.663669  0.640509  0.614479  0.618302  0.568248  0.641495  0.624450\n",
      "ma-cubic-spline-10-1e-4-0-0-en_ipa_phnm-neg-feats   0.664863  0.641283  0.614441  0.624374  0.562210  0.636228  0.623900\n",
      "nat-cubic-spline-mid-en_ipa_phnm-neg-feats          0.663713  0.640712  0.613975  0.624165  0.561527  0.635641  0.623289\n",
      "nat-cubic-spline-mid-en_ipaphnm-neg-feats           0.663673  0.640679  0.613907  0.623977  0.561481  0.635616  0.623222\n",
      "cubic--en_ipa-neg-feats-unk                         0.676044  0.648161  0.607036  0.597399  0.558737  0.643389  0.621794\n",
      "ma-cubic-10-1e-6-0-0-en_ipa-neg-feats-unk           0.676015  0.648144  0.607004  0.597369  0.558831  0.643357  0.621787\n",
      "ma-cubic-10-5e-6-1e-2-1e3-en_ap_1hot_phnm-neg-f...  0.664111  0.635853  0.612919  0.593173  0.572263  0.634056  0.618729\n",
      "linear-mid-en_ipa-neg-feats                         0.661144  0.634874  0.604741  0.601761  0.554733  0.636056  0.615552\n",
      "ma-cubic-spline-10-1e-4-0-0-en_phoneme-non-neg-...  0.656416  0.629150  0.602105  0.613713  0.561623  0.622923  0.614321\n",
      "nat-cubic-spline-mid-en_phoneme-non-neg-feats       0.655305  0.628558  0.601647  0.613700  0.560904  0.622205  0.613720\n",
      "ma-cubic-10-1e-6-1e-2-1e4-en_ipa-neg-feats          0.653627  0.629127  0.597551  0.595937  0.553678  0.627431  0.609558\n",
      "linear-mid-en_ap_1hot-neg-feats-unk                 0.655554  0.617701  0.607342  0.598401  0.535030  0.630989  0.607503\n",
      "ma-cubic-10-5e-6-1e-2-1e4-en_ap_scalar_phnm-neg...  0.653587  0.610246  0.610273  0.566074  0.569806  0.609246  0.603205\n",
      "mono-cubic-mid-en_ipa-neg-feats                     0.647324  0.622488  0.592769  0.592676  0.539878  0.621178  0.602719\n",
      "ma-cubic-10-1e-6-0-0-en_ipa-neg-feats               0.645280  0.620276  0.590790  0.591292  0.538441  0.619967  0.601007\n",
      "ma-cubic-10-1e-6-1e-2-1e3-en_ap_1hot-neg-feats-unk  0.643490  0.603277  0.595536  0.582938  0.534823  0.615881  0.595991\n",
      "ma-cubic-10-5e-5-0-0-en_ap_1hot-neg-feats-unk       0.641929  0.606080  0.594840  0.589587  0.527014  0.616314  0.595961\n",
      "piecewise-cst--en_ipa_phnm-neg-feats                0.633587  0.615926  0.589859  0.591424  0.536576  0.604280  0.595275\n",
      "piecewise-cst--en_ipaphnm-neg-feats                 0.633481  0.615950  0.589799  0.591386  0.536525  0.604186  0.595221\n",
      "cubic--en_ap_1hot-neg-feats-unk                     0.641725  0.605390  0.595133  0.589825  0.521816  0.616935  0.595137\n",
      "ma-cubic-10-1e-6-1e-1-1e4-en_ipa-neg-feats-unk      0.638408  0.626795  0.584461  0.555332  0.543648  0.613906  0.593758\n",
      "piecewise-cst--en_phoneme-non-neg-feats             0.628929  0.606917  0.578637  0.586477  0.538036  0.594155  0.588858\n",
      "ma-cubic-spline-10-5e-4-0-0-en_ipa-neg-feats        0.626756  0.599319  0.571813  0.579320  0.516972  0.604270  0.583075\n",
      "nat-cubic-spline-mid-en_ipa-neg-feats               0.623698  0.597690  0.569435  0.580352  0.518190  0.603041  0.582068\n",
      "min-jerk-fix-4-en_ipa_phnm-neg-feats                0.607076  0.579537  0.539498  0.584407  0.501886  0.585850  0.566376\n",
      "nat-cubic-spline-mid-en_ipa-neg-feats-unk           0.620581  0.585413  0.541750  0.559175  0.502442  0.587457  0.566136\n",
      "min-jerk-fix-4-en_ipaphnm-neg-feats                 0.607038  0.579533  0.539422  0.580831  0.501840  0.585898  0.565760\n",
      "piecewise-cst--en_ipa-neg-feats                     0.596376  0.576996  0.554648  0.552085  0.497372  0.576221  0.558949\n",
      "nat-cubic-spline-mid-en_ap_1hot-neg-feats-unk       0.581985  0.542242  0.535280  0.533239  0.465721  0.567387  0.537642\n",
      "mfcc-deltas-linear-en_ipa-neg-feats                 0.553088  0.581877  0.545552  0.518330  0.531500  0.490829  0.536863\n",
      "mfcc-deltas-nearest-en_ipa-neg-feats                0.553088  0.581877  0.545552  0.518330  0.531500  0.490829  0.536863\n",
      "mfcc-deltas-kaiser-en_ipa-neg-feats                 0.553088  0.581877  0.545552  0.518330  0.531500  0.490829  0.536863\n",
      "mfcc-deltas-sinc-en_ipa-neg-feats                   0.553088  0.581877  0.545552  0.518330  0.531500  0.490829  0.536863\n",
      "min-jerk-fix-4-en_ipa-neg-feats                     0.564893  0.532124  0.477990  0.544894  0.467991  0.504428  0.515387\n",
      "linear-mid-en_ap_scalar-neg-feats-unk               0.574346  0.507280  0.512457  0.503457  0.434818  0.536226  0.511431\n",
      "ma-cubic-10-1e-6-1e-2-1e4-en_ap_scalar-neg-feat...  0.566656  0.502891  0.506303  0.498075  0.432799  0.527977  0.505784\n",
      "ma-cubic-10-1e-6-0-0-en_ap_scalar-neg-feats-unk     0.561934  0.497564  0.503225  0.497140  0.425936  0.524734  0.501756\n",
      "cubic--en_ap_scalar-neg-feats-unk                   0.561915  0.497531  0.503247  0.497162  0.425756  0.524751  0.501727\n",
      "nat-cubic-spline-mid-en_ap_scalar-neg-feats-unk     0.534399  0.468495  0.476432  0.484867  0.403874  0.507853  0.479320\n",
      "mfcc-linear-en_ipa-neg-feats                        0.496725  0.525313  0.474955  0.451561  0.475706  0.438440  0.477117\n",
      "mfcc-nearest-en_ipa-neg-feats                       0.496725  0.525313  0.474955  0.451561  0.475706  0.438440  0.477117\n",
      "mfcc-kaiser-en_ipa-neg-feats                        0.496725  0.525313  0.474955  0.451561  0.475706  0.438440  0.477117\n",
      "mfcc-sinc-en_ipa-neg-feats                          0.496725  0.525313  0.474955  0.451561  0.475706  0.438440  0.477117\n"
     ]
    }
   ],
   "source": [
    "prob_res = Results('/path/to/results/pearson_corr_no_sil_ipa_is.json')\n",
    "df = print_benchmark(prob_res.benchmark())"
   ]
  }
 ],
 "metadata": {
  "kernelspec": {
   "display_name": "Python 3 (ipykernel)",
   "language": "python",
   "name": "python3"
  },
  "language_info": {
   "codemirror_mode": {
    "name": "ipython",
    "version": 3
   },
   "file_extension": ".py",
   "mimetype": "text/x-python",
   "name": "python",
   "nbconvert_exporter": "python",
   "pygments_lexer": "ipython3",
   "version": "3.10.13"
  }
 },
 "nbformat": 4,
 "nbformat_minor": 5
}
